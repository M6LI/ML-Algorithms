{
 "cells": [
  {
   "cell_type": "markdown",
   "id": "a3af64b2-aab4-40d2-8c93-53b216a2ea4e",
   "metadata": {},
   "source": [
    "<a name=\"outline\"></a>\n",
    "\n",
    "## Outline\n",
    "\n",
    "- [Section 1](#section-1): Intro to kNN\n",
    "- [Section 2](#section-2): Classification with kNN\n",
    "- [Section 3](#section-3): Hyperparameter Tuning for $k$ with _T-fold_ Cross Validation\n",
    "- [Section 4](#section-4): Regression with kNN\n"
   ]
  },
  {
   "cell_type": "markdown",
   "id": "1fa79709-a195-463d-82e0-60e4838fa3d3",
   "metadata": {},
   "source": [
    "# _k_ nearest neighbours (kNN)\n",
    "\n",
    "The purpose of this notebook is to understand and implement the kNN algorithm, without using any high-level packages."
   ]
  },
  {
   "cell_type": "markdown",
   "id": "aca89353-4ec9-4e8e-ad3a-faa497c7a2c5",
   "metadata": {},
   "source": [
    "Let's load some graphing utilities."
   ]
  },
  {
   "cell_type": "code",
   "execution_count": 1,
   "id": "ca2c4226-2996-42c7-9062-5a2a3d113488",
   "metadata": {},
   "outputs": [],
   "source": [
    "import numpy as np\n",
    "from sklearn.datasets import make_classification, fetch_california_housing\n",
    "import matplotlib.pyplot as plt\n",
    "from matplotlib.colors import ListedColormap\n",
    "\n",
    "SMALL_SIZE = 12\n",
    "MEDIUM_SIZE = 16\n",
    "BIGGER_SIZE = 20\n",
    "plt.rc('font', size=SMALL_SIZE)          # controls default text sizes\n",
    "plt.rc('axes', titlesize=BIGGER_SIZE)     # fontsize of the axes title\n",
    "plt.rc('axes', labelsize=MEDIUM_SIZE)    # fontsize of the x and y labels\n",
    "plt.rc('xtick', labelsize=SMALL_SIZE)    # fontsize of the tick labels\n",
    "plt.rc('ytick', labelsize=SMALL_SIZE)    # fontsize of the tick labels\n",
    "plt.rc('legend', fontsize=MEDIUM_SIZE)    # legend fontsize\n",
    "plt.rc('figure', titlesize=BIGGER_SIZE)  # fontsize of the figure title\n",
    "\n",
    "# fixing random generator for reproducibility\n",
    "rng = np.random.default_rng(0)"
   ]
  },
  {
   "cell_type": "markdown",
   "id": "94e81f52-2f76-4818-8f89-dbd142d05b5f",
   "metadata": {},
   "source": [
    "\n",
    "\n",
    "<a name=\"section-1\"></a>\n",
    "\n",
    "## Section 1: Intro to kNN [^](#outline)\n",
    "\n",
    "The kNN algorithm can be used both for classification and regression. Broadly speaking, it starts with calculating the distance of a given point $x$ to all other points in the data set. Then, it finds the _k_ nearest points closest to $x$, and assigns the new point $x$ to the majority class of the _k_ nearest points _(classification)_. So, for example, if two of the _k_=3 closest points to $x$ were red while one is blue, $x$ would be classified as red.\n",
    "\n",
    "On the other hand in _regression_, we see the labels as continuous variables and assign the label of a data point $x$ as the mean of the labels of its _k_ nearest neighbours."
   ]
  },
  {
   "cell_type": "code",
   "execution_count": null,
   "id": "1d6eb5f7-d98c-463e-b530-d2482ea2510e",
   "metadata": {},
   "outputs": [],
   "source": []
  }
 ],
 "metadata": {
  "kernelspec": {
   "display_name": "Python 3 (ipykernel)",
   "language": "python",
   "name": "python3"
  },
  "language_info": {
   "codemirror_mode": {
    "name": "ipython",
    "version": 3
   },
   "file_extension": ".py",
   "mimetype": "text/x-python",
   "name": "python",
   "nbconvert_exporter": "python",
   "pygments_lexer": "ipython3",
   "version": "3.11.5"
  }
 },
 "nbformat": 4,
 "nbformat_minor": 5
}
