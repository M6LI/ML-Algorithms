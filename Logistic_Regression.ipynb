{
 "cells": [
  {
   "cell_type": "code",
   "execution_count": 1,
   "id": "82b5b596-9d61-417f-bac4-748c6d915342",
   "metadata": {},
   "outputs": [],
   "source": [
    "import numpy as np"
   ]
  },
  {
   "cell_type": "markdown",
   "id": "b3980ea3-c833-4972-b780-637a26a28545",
   "metadata": {},
   "source": [
    "# Linear Regression"
   ]
  },
  {
   "cell_type": "code",
   "execution_count": 2,
   "id": "b461542b-8f18-4773-ad3d-f7a1964057ef",
   "metadata": {},
   "outputs": [],
   "source": [
    "class LinearRegression:\n",
    "    def __init__(self, X, y):\n",
    "        assert X.shape[0] == y.shape[0], \"X and y don't have the same number of rows!\"\n",
    "\n",
    "        X = np.hstack([np.ones((X.shape[0], 1)), X])\n",
    "        \n",
    "        self.X = X\n",
    "        self.y = y\n",
    "        self.B = np.linalg.inv((X.T @ X)) @ X.T @ y\n",
    "\n",
    "    def predict(self, X_new):\n",
    "        if X_new.ndim == 1:\n",
    "            X_new = X_new.reshape(1, -1)  # convert to a row vector if needed\n",
    "        X_new = np.hstack([np.ones((X_new.shape[0], 1)), X_new])  # add bias\n",
    "        \n",
    "        return x.T @ self.B \n",
    "\n",
    "    def score(self, X, y):\n",
    "        y_pred = self.predict(X)\n",
    "        ss_res = np.sum((y - y_pred)**2)\n",
    "        ss_tot = np.sum((y - np.mean(y))**2)\n",
    "        return 1 - ss_res / ss_tot  # R² score\n",
    "\n",
    "    def mse(self, X, y):\n",
    "        y_pred = self.predict(X)\n",
    "        return np.mean((y - y_pred)**2)"
   ]
  },
  {
   "cell_type": "markdown",
   "id": "b71d06ed-0ccf-47e9-a9d8-809214baf1e5",
   "metadata": {},
   "source": [
    "# Logistic Regression"
   ]
  },
  {
   "cell_type": "code",
   "execution_count": 3,
   "id": "aa75a263-e44c-4018-b188-8425aba5e361",
   "metadata": {},
   "outputs": [],
   "source": [
    "# Sigmoid\n",
    "def sigmoid(x):\n",
    "    return 1 / (1 + np.exp(-x))"
   ]
  },
  {
   "cell_type": "code",
   "execution_count": 4,
   "id": "6479dcc3-278b-4b97-8836-f4f30e210590",
   "metadata": {},
   "outputs": [],
   "source": [
    "# Compute loss\n",
    "def compute_loss(y, y_pred):\n",
    "    N = y.shape[0]\n",
    "    return -1/N * ( np.sum( y * np.log(y_pred + 1e-8) + (1-y) * np.log(1 - y_pred + 1e-8)  )  )\n",
    "\n",
    "# Logistic regression class\n",
    "class LogisticRegression:\n",
    "    def __init__(self, lr=0.01, n_iters=100):\n",
    "        self.lr = lr\n",
    "        self.n_iters = n_iters\n",
    "        self.W = None\n",
    "        self.b = None\n",
    "\n",
    "    def train(self, X, y):\n",
    "        m, N = X.shape\n",
    "        self.W = np.zeros(m)\n",
    "        self.b = 0\n",
    "\n",
    "        for _ in range(n_iters):\n",
    "\n",
    "            linear_model = np.dot(self.W, X) + self.b\n",
    "            y_pred = sigmoid(linear_model)\n",
    "            \n",
    "            loss = compute_loss(y, y_pred)\n",
    "\n",
    "            # Compute gradients\n",
    "            dw = (1/m) * np.dot(X.T, (y_pred - y))\n",
    "            db = (1/m) * np.sum(y_pred - y)\n",
    "\n",
    "            # Update weights\n",
    "            self.weights -= self.lr * dw\n",
    "            self.bias -= self.lr * db\n",
    "    \n",
    "    def predict_probs(self, X):\n",
    "        linear_model = np.dot(self.W, X) + self.b\n",
    "        return sigmoid( linear_model )\n",
    "\n",
    "    def predict(self, X):\n",
    "        y_probs = predict_probs(X)\n",
    "        return (y_probs >= 0.5).astype(int)"
   ]
  },
  {
   "cell_type": "code",
   "execution_count": 5,
   "id": "8b64d23e-6bdf-4a6a-8684-d8798cc7d9ec",
   "metadata": {},
   "outputs": [],
   "source": [
    "import numpy as np\n",
    "\n",
    "# Sigmoid function\n",
    "def sigmoid(z):\n",
    "    return 1 / (1 + np.exp(-z))\n",
    "\n",
    "# Loss function (Binary Cross Entropy)\n",
    "def compute_loss(y, y_pred):\n",
    "    m = y.shape[0]\n",
    "    return - (1/m) * np.sum(y * np.log(y_pred + 1e-8) + (1 - y) * np.log(1 - y_pred + 1e-8))\n",
    "\n",
    "# Logistic Regression class\n",
    "class LogisticRegression:\n",
    "    def __init__(self, learning_rate=0.1, n_iters=1000):\n",
    "        self.lr = learning_rate\n",
    "        self.n_iters = n_iters\n",
    "        self.weights = None\n",
    "        self.bias = None\n",
    "\n",
    "    def fit(self, X, y):\n",
    "        m, n = X.shape\n",
    "        self.weights = np.zeros(n)\n",
    "        self.bias = 0\n",
    "\n",
    "        for _ in range(self.n_iters):\n",
    "            linear_model = np.dot(X, self.weights) + self.bias\n",
    "            y_pred = sigmoid(linear_model)\n",
    "\n",
    "            # Compute gradients\n",
    "            dw = (1/m) * np.dot(X.T, (y_pred - y))\n",
    "            db = (1/m) * np.sum(y_pred - y)\n",
    "\n",
    "            # Update weights\n",
    "            self.weights -= self.lr * dw\n",
    "            self.bias -= self.lr * db\n",
    "\n",
    "    def predict_proba(self, X):\n",
    "        linear_model = np.dot(X, self.weights) + self.bias\n",
    "        return sigmoid(linear_model)\n",
    "\n",
    "    def predict(self, X):\n",
    "        y_probs = self.predict_proba(X)\n",
    "        return (y_probs >= 0.5).astype(int)\n"
   ]
  },
  {
   "cell_type": "code",
   "execution_count": 8,
   "id": "a7443325-2784-4fc3-ad6c-953f27dd0e16",
   "metadata": {},
   "outputs": [
    {
     "name": "stdout",
     "output_type": "stream",
     "text": [
      "Accuracy: 0.9\n"
     ]
    }
   ],
   "source": [
    "from sklearn.datasets import make_classification\n",
    "from sklearn.model_selection import train_test_split\n",
    "from sklearn.metrics import accuracy_score\n",
    "\n",
    "X, y = make_classification(\n",
    "    n_samples=1000,\n",
    "    n_features=2,\n",
    "    n_informative=2,     # explicitly say: 2 useful features\n",
    "    n_redundant=0,       # no redundant features\n",
    "    n_repeated=0,        # no repeated features\n",
    "    n_classes=2,\n",
    "    random_state=42\n",
    ")\n",
    "\n",
    "X_train, X_test, y_train, y_test = train_test_split(X, y, test_size=0.2)\n",
    "\n",
    "# Train and evaluate\n",
    "model = LogisticRegression(learning_rate=0.1, n_iters=1000)\n",
    "model.fit(X_train, y_train)\n",
    "y_pred = model.predict(X_test)\n",
    "\n",
    "print(\"Accuracy:\", accuracy_score(y_test, y_pred))\n"
   ]
  },
  {
   "cell_type": "markdown",
   "id": "21b611eb-fe4e-4c51-84f8-1b302cca2465",
   "metadata": {},
   "source": [
    "### Naive Bayes"
   ]
  },
  {
   "cell_type": "code",
   "execution_count": 1,
   "id": "863eabb4-6b41-4fff-9fc0-aa444cd6d40f",
   "metadata": {},
   "outputs": [],
   "source": [
    "import numpy as np\n",
    "from collections import defaultdict\n",
    "\n",
    "# X = list of documents (bag of words), Y = labels\n",
    "X = [\n",
    "    ['cheap', 'viagra', 'cheap', 'viagra'],\n",
    "    ['buy', 'viagra', 'now'],\n",
    "    ['hello', 'friend'],\n",
    "    ['let', 'us', 'meet', 'for', 'lunch']\n",
    "]\n",
    "y = ['spam', 'spam', 'ham', 'ham']"
   ]
  },
  {
   "cell_type": "code",
   "execution_count": null,
   "id": "d5a6960c-50bb-4541-9775-df819cf92cc8",
   "metadata": {},
   "outputs": [],
   "source": []
  }
 ],
 "metadata": {
  "kernelspec": {
   "display_name": "Python 3 (ipykernel)",
   "language": "python",
   "name": "python3"
  },
  "language_info": {
   "codemirror_mode": {
    "name": "ipython",
    "version": 3
   },
   "file_extension": ".py",
   "mimetype": "text/x-python",
   "name": "python",
   "nbconvert_exporter": "python",
   "pygments_lexer": "ipython3",
   "version": "3.11.5"
  }
 },
 "nbformat": 4,
 "nbformat_minor": 5
}
